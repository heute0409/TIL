{
 "cells": [
  {
   "cell_type": "code",
   "execution_count": 46,
   "metadata": {},
   "outputs": [
    {
     "name": "stdout",
     "output_type": "stream",
     "text": [
      "Requirement already satisfied: pymysql in c:\\users\\admin\\anaconda3\\lib\\site-packages (1.0.2)\n",
      "Note: you may need to restart the kernel to use updated packages.\n"
     ]
    }
   ],
   "source": [
    "pip install pymysql"
   ]
  },
  {
   "cell_type": "code",
   "execution_count": 47,
   "metadata": {},
   "outputs": [
    {
     "data": {
      "text/plain": [
       "<pymysql.connections.Connection at 0x2457e289cd0>"
      ]
     },
     "execution_count": 47,
     "metadata": {},
     "output_type": "execute_result"
    }
   ],
   "source": [
    "import pymysql \n",
    "\n",
    "conn = pymysql.connect(\n",
    "    host='localhost',\n",
    "    port=3306,\n",
    "    user='root',\n",
    "    passwd='root',\n",
    "    db='phonestore'\n",
    ")\n",
    "conn"
   ]
  },
  {
   "cell_type": "code",
   "execution_count": 48,
   "metadata": {},
   "outputs": [
    {
     "data": {
      "text/plain": [
       "8"
      ]
     },
     "execution_count": 48,
     "metadata": {},
     "output_type": "execute_result"
    }
   ],
   "source": [
    "sql = \"select * from 할인율\"\n",
    "cursor = conn.cursor()    \n",
    "cursor.execute(sql)"
   ]
  },
  {
   "cell_type": "code",
   "execution_count": 49,
   "metadata": {},
   "outputs": [
    {
     "data": {
      "text/plain": [
       "31"
      ]
     },
     "execution_count": 49,
     "metadata": {},
     "output_type": "execute_result"
    }
   ],
   "source": [
    "sqld = \"select * from 상세정보\"\n",
    "cursor1 = conn.cursor()    \n",
    "cursor1.execute(sqld)\n",
    "\n"
   ]
  },
  {
   "cell_type": "code",
   "execution_count": 50,
   "metadata": {},
   "outputs": [],
   "source": [
    "#############\n",
    "#항목선택 함수\n",
    "#############\n",
    "\n",
    "def 항목선택():\n",
    "    print()\n",
    "    print('휴대폰 판매 통합 시스템')\n",
    "    print('*'*20)\n",
    "    print('1. 등록')\n",
    "    print('2. 검색')\n",
    "    print('3. 종료')\n",
    "    print()\n",
    "\n",
    "    choi_num = int(input('원하시는 항목을 선택하세요. : '))\n",
    "             \n",
    "    while choi_num < 1 or choi_num > 3 :\n",
    "        choi_num = int(input('항목 번호를 확인해주세요. : '))\n",
    "    \n",
    "    return choi_num\n",
    "\n"
   ]
  },
  {
   "cell_type": "code",
   "execution_count": 51,
   "metadata": {},
   "outputs": [],
   "source": [
    "############\n",
    "# 1. 등록 함수\n",
    "############\n",
    "def 등록():\n",
    "    제품명=input('제품명을 입력하세요 : ')\n",
    "    #제품코드=input('제품코드를 입력하세요 : ')\n",
    "    출시일=input('출시일을 입력하세요 : ')\n",
    "    #입고일=input('입고일을 입력하세요 : ')\n",
    "    제조사=input('제조사를 입력하세요 : ')\n",
    "    보증기간=int(input('보증기간을 입력하세요 : '))\n",
    "    용량=input('용량을 입력하세요 : ')\n",
    "    색상=input('색상을 입력하세요 : ') \n",
    "    가격=int(input('가격을 입력하세요 : '))\n",
    "    화면크기=input('화면크기를 입력하세요 : ')\n",
    "    무게=input('무게를 입력하세요 : ') \n",
    "\n",
    "    query='''\n",
    "    insert into 상세정보 values(%s,default,%s,default,%s,%s,%s,%s,%s,%s,%s)\n",
    "    '''\n",
    "    cur = conn.cursor()\n",
    "    cur.execute(query,(제품명,출시일,제조사,보증기간,용량,색상,가격,화면크기,무게))\n",
    "    conn.commit()\n",
    "#     cursor.close()\n",
    "#     conn.close()\n",
    "    answer = input('추가로 등록하시겠습니까? y/n : ')\n",
    "    \n",
    "    if answer == 'Y' or 'y' :\n",
    "        등록()\n",
    "    else :\n",
    "        global choi_num\n",
    "        choi_num = choi_num - 1\n",
    "        print(choi_num)\n",
    "    \n",
    "        \n",
    "    "
   ]
  },
  {
   "cell_type": "code",
   "execution_count": 52,
   "metadata": {},
   "outputs": [],
   "source": [
    "############\n",
    "# 2.검색 함수\n",
    "############\n",
    "def 검색() : \n",
    "    #검색\n",
    "\n",
    "    PhoneName = input('기종을 입력하세요.')\n",
    "\n",
    "    sqlx = \"select 제품명, count(*) from 상세정보 where 제품명 like %s\"\n",
    "    cursor2 = conn.cursor()    \n",
    "    cursor2.execute(sqlx,(PhoneName))\n",
    "    result = cursor2.fetchone()\n",
    "    print(result)\n",
    "\n",
    "    question = input('상세보기 하시겠습니까?(Y/N)')\n",
    "\n",
    "    if question == 'Y' or question == 'y':\n",
    "        sql_detail = \"select * from 상세정보 where 제품명 like %s\"\n",
    "        cursor3 = conn.cursor()    \n",
    "        cursor3.execute(sql_detail,(PhoneName))\n",
    "        result1 = cursor3.fetchall()\n",
    "        print(result1)\n",
    "        \n",
    "        sql_price = \"select distinct(제품명), 할인율 from 할인율 where 제품명 like %s\"\n",
    "        cursor4 = conn.cursor()    \n",
    "        cursor4.execute(sql_price, (PhoneName))\n",
    "        price_result = cursor4.fetchall()\n",
    "        print(price_result)\n",
    "        \n",
    "    else :\n",
    "        print('끝')\n",
    "        \n",
    "    price = int(input('가격'))\n",
    "    sale_rate = float(input('할인율'))\n",
    "    print('행사가는 ' + str(int(price * (1 - sale_rate))) + '원입니다.')"
   ]
  },
  {
   "cell_type": "code",
   "execution_count": null,
   "metadata": {},
   "outputs": [
    {
     "name": "stdout",
     "output_type": "stream",
     "text": [
      "\n",
      "재고 관리 프로그램\n",
      "********************\n",
      "1. 등록\n",
      "2. 검색\n",
      "3. 종료\n",
      "\n",
      "원하시는 항목을 선택하세요. : 2\n",
      "기종을 입력하세요.갤럭시폴드\n",
      "('갤럭시폴드', 5)\n",
      "상세보기 하시겠습니까?(Y/N)y\n",
      "(('갤럭시폴드', 12, '2020-08-19', datetime.datetime(2021, 4, 12, 17, 10, 29), 'SAMSUNG', 2, '256G', 'BRONZE', 2490000, '7INCH', '282G'), ('갤럭시폴드', 13, '2020-08-17', datetime.datetime(2021, 4, 12, 17, 10, 30), 'SAMSUNG', 1, '128G', 'BRONZE', 2390000, '7INCH', '282G'), ('갤럭시폴드', 14, '2020-08-17', datetime.datetime(2021, 4, 12, 17, 10, 31), 'SAMSUNG', 2, '256G', 'BRONZE', 2490000, '7INCH', '282G'), ('갤럭시폴드', 15, '2020-08-16', datetime.datetime(2021, 4, 12, 17, 10, 32), 'SAMSUNG', 2, '256G', 'BLACK', 2490000, '7INCH', '282G'), ('갤럭시폴드', 16, '2020-08-16', datetime.datetime(2021, 4, 12, 17, 10, 33), 'SAMSUNG', 1, '128G', 'BLACK', 2390000, '7INCH', '282G'))\n",
      "(('갤럭시폴드', 0.3),)\n",
      "가격2390000\n",
      "할인율0.3\n",
      "행사가는 1673000원입니다.\n",
      "\n",
      "재고 관리 프로그램\n",
      "********************\n",
      "1. 등록\n",
      "2. 검색\n",
      "3. 종료\n",
      "\n"
     ]
    }
   ],
   "source": [
    "#############\n",
    "# 메인 실행 \n",
    "#############\n",
    "\n",
    "choi_num = 0\n",
    "quit = 3\n",
    "\n",
    "while choi_num != quit:\n",
    "    choi_num = 항목선택()\n",
    "    if choi_num == 1:\n",
    "        등록()\n",
    "    elif choi_num == 2:\n",
    "        검색()\n",
    "   \n"
   ]
  },
  {
   "cell_type": "code",
   "execution_count": null,
   "metadata": {},
   "outputs": [],
   "source": []
  }
 ],
 "metadata": {
  "kernelspec": {
   "display_name": "Python 3",
   "language": "python",
   "name": "python3"
  },
  "language_info": {
   "codemirror_mode": {
    "name": "ipython",
    "version": 3
   },
   "file_extension": ".py",
   "mimetype": "text/x-python",
   "name": "python",
   "nbconvert_exporter": "python",
   "pygments_lexer": "ipython3",
   "version": "3.8.5"
  }
 },
 "nbformat": 4,
 "nbformat_minor": 4
}
