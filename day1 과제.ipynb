{
 "cells": [
  {
   "cell_type": "markdown",
   "metadata": {},
   "source": [
    "## 과제"
   ]
  },
  {
   "cell_type": "markdown",
   "metadata": {},
   "source": [
    "### 1. 가위바위보를 while문을 이용하여 이길 때까지 반복하기"
   ]
  },
  {
   "cell_type": "code",
   "execution_count": 30,
   "metadata": {},
   "outputs": [
    {
     "name": "stdout",
     "output_type": "stream",
     "text": [
      "💖.｡.｡.｡.💖.｡.｡.｡.💖\n",
      "====================\n",
      "✌가위~✊바위~🖐보~\n",
      "====================\n",
      "💖.｡.｡.｡.💖.｡.｡.｡.💖\n",
      "\n",
      "\n",
      "가위 바위 보 중에 골라주세요~👼 ➡ 가위\n",
      "❣컴퓨터 승!❣\n",
      "\n",
      ".｡.:*☆당신 ➡ 가위\n",
      ".｡.:*☆컴퓨터 ➡ 보\n",
      "\n",
      "❣다시 한 번~!❣\n",
      "\n",
      "\n",
      "가위 바위 보 중에 골라주세요~👼 ➡ 바위\n",
      "❣당신 승!❣\n",
      "\n",
      ".｡.:*☆당신 ➡ 바위\n",
      ".｡.:*☆컴퓨터 ➡ 가위\n",
      "\n",
      "❣게임 끝~!❣\n"
     ]
    }
   ],
   "source": [
    "import random\n",
    "#가위 = 1 바위 = 2 보 = 3\n",
    "\n",
    "print('💖.｡.｡.｡.💖.｡.｡.｡.💖')\n",
    "print('='*20)\n",
    "print('✌가위~✊바위~🖐보~')\n",
    "print('='*20)\n",
    "print('💖.｡.｡.｡.💖.｡.｡.｡.💖')\n",
    "\n",
    "print('\\n')\n",
    "\n",
    "while True:\n",
    "    user=input('가위 바위 보 중에 골라주세요~👼 ➡ ')\n",
    "    com_num=random.randint(1,3) #컴퓨터 랜덤 숫자 부여 #uniformly distributed random number을 사용해 부여할 수도 있다. \n",
    "\n",
    "    #com_num=컴퓨터 랜덤 숫자 com=랜덤숫자->문자 변환 \n",
    "    if com_num ==1:\n",
    "        com='가위'\n",
    "    elif com_num == 2:\n",
    "        com='바위'\n",
    "    elif com_num == 3:\n",
    "        com='보'\n",
    "    \n",
    "    #사용자가 입력한 문자를 숫자로 변환\n",
    "    if user =='가위':\n",
    "        user_num=1\n",
    "    elif user == '바위':\n",
    "        user_num=2\n",
    "    elif user == '보':\n",
    "        user_num=3    \n",
    "    \n",
    "    #출력문 \n",
    "    info=('\\n')+'.｡.:*☆당신 ➡ '+user+('\\n')+'.｡.:*☆컴퓨터 ➡ '+com+('\\n')\n",
    "\n",
    "    if user_num<com_num:\n",
    "        print('❣컴퓨터 승!❣')\n",
    "        print(info)\n",
    "        print('❣다시 한 번~!❣')\n",
    "        print('\\n')\n",
    "\n",
    "    elif user_num == com_num:\n",
    "        print('❣무승부❣')\n",
    "        print(info)\n",
    "        print('❣다시 한 번~!❣')\n",
    "        print('\\n')\n",
    "\n",
    "    else:\n",
    "        print('❣당신 승!❣')\n",
    "        print(info)\n",
    "        print('❣게임 끝~!❣')\n",
    "        break\n",
    "        "
   ]
  },
  {
   "cell_type": "markdown",
   "metadata": {},
   "source": [
    "### 2. 중복없는 로또번호생성기 만들기"
   ]
  },
  {
   "cell_type": "code",
   "execution_count": 29,
   "metadata": {},
   "outputs": [
    {
     "name": "stdout",
     "output_type": "stream",
     "text": [
      "로또번호 생성 프로그램\n",
      "======================\n",
      "8 4 39 35 13 12\n"
     ]
    }
   ],
   "source": [
    "import random\n",
    "print('로또번호 생성 프로그램')\n",
    "print('='*22)\n",
    "\n",
    "while True:\n",
    "    num1=random.randint(1,45)\n",
    "    num2=random.randint(1,45)\n",
    "    num3=random.randint(1,45)\n",
    "    num4=random.randint(1,45)\n",
    "    num5=random.randint(1,45)\n",
    "    num6=random.randint(1,45)\n",
    "    if num1 != num2 and  num1 != num3 and num1 != num4 and  num1 != num5 and num1 != num6 and num2 != num3 and num2 != num4 and num2 != num5 and num2 != num6 and num3 != num4 and num3 != num5 and num3 != num6 and num4 != num5 and num4 != num6 and num5 != num6 :\n",
    "        break\n",
    "        \n",
    "print(str(num1)+' '+str(num2)+' '+str(num3)+' '+str(num4)+' '+str(num5)+' '+str(num6))"
   ]
  },
  {
   "cell_type": "code",
   "execution_count": null,
   "metadata": {},
   "outputs": [],
   "source": [
    "#리스트 이용\n",
    "\n",
    "import random\n",
    "print('로또번호 생성 프로그램')\n",
    "print('='*22)\n",
    "\n",
    "lotto=[] #빈 리스트 생성\n",
    "count=1\n",
    "while count<7:\n",
    "    num=random.randint(1,45)\n",
    "    if num in lotto:\n",
    "        continue #랜덤 숫자가 이미 리스트에 있으면 다시 진행한다\n",
    "    else:\n",
    "        lotto.append(num) #랜덤 숫자를 리스트에 추가한다\n",
    "        count+=1\n",
    "        \n",
    "print(lotto)"
   ]
  }
 ],
 "metadata": {
  "kernelspec": {
   "display_name": "Python 3",
   "language": "python",
   "name": "python3"
  },
  "language_info": {
   "codemirror_mode": {
    "name": "ipython",
    "version": 3
   },
   "file_extension": ".py",
   "mimetype": "text/x-python",
   "name": "python",
   "nbconvert_exporter": "python",
   "pygments_lexer": "ipython3",
   "version": "3.8.5"
  }
 },
 "nbformat": 4,
 "nbformat_minor": 4
}
